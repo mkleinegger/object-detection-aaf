{
 "cells": [
  {
   "cell_type": "markdown",
   "metadata": {},
   "source": [
    "Load all neccessary libraries into one folder"
   ]
  },
  {
   "cell_type": "code",
   "execution_count": 1,
   "metadata": {},
   "outputs": [
    {
     "name": "stdout",
     "output_type": "stream",
     "text": [
      "Collecting aniso8601==9.0.1 (from -r C:\\Users\\Alexander Lorenz\\Documents\\GitHub\\object-detection-aaf\\requirements.txt (line 1))\n",
      "  Using cached aniso8601-9.0.1-py2.py3-none-any.whl.metadata (23 kB)\n",
      "Collecting blinker==1.8.2 (from -r C:\\Users\\Alexander Lorenz\\Documents\\GitHub\\object-detection-aaf\\requirements.txt (line 2))\n",
      "  Using cached blinker-1.8.2-py3-none-any.whl.metadata (1.6 kB)\n",
      "Collecting click==8.1.7 (from -r C:\\Users\\Alexander Lorenz\\Documents\\GitHub\\object-detection-aaf\\requirements.txt (line 3))\n",
      "  Using cached click-8.1.7-py3-none-any.whl.metadata (3.0 kB)\n",
      "Collecting colorama==0.4.6 (from -r C:\\Users\\Alexander Lorenz\\Documents\\GitHub\\object-detection-aaf\\requirements.txt (line 4))\n",
      "  Using cached colorama-0.4.6-py2.py3-none-any.whl.metadata (17 kB)\n",
      "Collecting itsdangerous==2.2.0 (from -r C:\\Users\\Alexander Lorenz\\Documents\\GitHub\\object-detection-aaf\\requirements.txt (line 7))\n",
      "  Using cached itsdangerous-2.2.0-py3-none-any.whl.metadata (1.9 kB)\n",
      "Collecting Jinja2==3.1.4 (from -r C:\\Users\\Alexander Lorenz\\Documents\\GitHub\\object-detection-aaf\\requirements.txt (line 8))\n",
      "  Using cached jinja2-3.1.4-py3-none-any.whl.metadata (2.6 kB)\n",
      "Collecting MarkupSafe==2.1.5 (from -r C:\\Users\\Alexander Lorenz\\Documents\\GitHub\\object-detection-aaf\\requirements.txt (line 9))\n",
      "  Using cached MarkupSafe-2.1.5-cp312-cp312-win_amd64.whl.metadata (3.1 kB)\n",
      "Collecting numpy==1.26.4 (from -r C:\\Users\\Alexander Lorenz\\Documents\\GitHub\\object-detection-aaf\\requirements.txt (line 10))\n",
      "  Using cached numpy-1.26.4-cp312-cp312-win_amd64.whl.metadata (61 kB)\n",
      "Collecting opencv-python==4.10.0.82 (from -r C:\\Users\\Alexander Lorenz\\Documents\\GitHub\\object-detection-aaf\\requirements.txt (line 11))\n",
      "  Using cached opencv_python-4.10.0.82-cp37-abi3-win_amd64.whl.metadata (20 kB)\n",
      "Collecting pytz==2024.1 (from -r C:\\Users\\Alexander Lorenz\\Documents\\GitHub\\object-detection-aaf\\requirements.txt (line 12))\n",
      "  Using cached pytz-2024.1-py2.py3-none-any.whl.metadata (22 kB)\n",
      "Collecting setuptools==69.5.1 (from -r C:\\Users\\Alexander Lorenz\\Documents\\GitHub\\object-detection-aaf\\requirements.txt (line 13))\n",
      "  Downloading setuptools-69.5.1-py3-none-any.whl.metadata (6.2 kB)\n",
      "Collecting six==1.16.0 (from -r C:\\Users\\Alexander Lorenz\\Documents\\GitHub\\object-detection-aaf\\requirements.txt (line 14))\n",
      "  Using cached six-1.16.0-py2.py3-none-any.whl.metadata (1.8 kB)\n",
      "Collecting Werkzeug==3.0.3 (from -r C:\\Users\\Alexander Lorenz\\Documents\\GitHub\\object-detection-aaf\\requirements.txt (line 15))\n",
      "  Using cached werkzeug-3.0.3-py3-none-any.whl.metadata (3.7 kB)\n",
      "Collecting wheel==0.43.0 (from -r C:\\Users\\Alexander Lorenz\\Documents\\GitHub\\object-detection-aaf\\requirements.txt (line 16))\n",
      "  Downloading wheel-0.43.0-py3-none-any.whl.metadata (2.2 kB)\n",
      "Using cached aniso8601-9.0.1-py2.py3-none-any.whl (52 kB)\n",
      "Using cached blinker-1.8.2-py3-none-any.whl (9.5 kB)\n",
      "Using cached click-8.1.7-py3-none-any.whl (97 kB)\n",
      "Using cached colorama-0.4.6-py2.py3-none-any.whl (25 kB)\n",
      "Using cached itsdangerous-2.2.0-py3-none-any.whl (16 kB)\n",
      "Using cached jinja2-3.1.4-py3-none-any.whl (133 kB)\n",
      "Using cached MarkupSafe-2.1.5-cp312-cp312-win_amd64.whl (17 kB)\n",
      "Using cached numpy-1.26.4-cp312-cp312-win_amd64.whl (15.5 MB)\n",
      "Using cached opencv_python-4.10.0.82-cp37-abi3-win_amd64.whl (38.8 MB)\n",
      "Using cached pytz-2024.1-py2.py3-none-any.whl (505 kB)\n",
      "Downloading setuptools-69.5.1-py3-none-any.whl (894 kB)\n",
      "   ---------------------------------------- 0.0/894.6 kB ? eta -:--:--\n",
      "   - -------------------------------------- 30.7/894.6 kB 1.3 MB/s eta 0:00:01\n",
      "   ------ --------------------------------- 143.4/894.6 kB 2.1 MB/s eta 0:00:01\n",
      "   ---------------- ----------------------- 358.4/894.6 kB 3.2 MB/s eta 0:00:01\n",
      "   -------------------------- ------------- 593.9/894.6 kB 3.7 MB/s eta 0:00:01\n",
      "   ------------------------------------ --- 819.2/894.6 kB 4.0 MB/s eta 0:00:01\n",
      "   ---------------------------------------- 894.6/894.6 kB 4.0 MB/s eta 0:00:00\n",
      "Using cached six-1.16.0-py2.py3-none-any.whl (11 kB)\n",
      "Using cached werkzeug-3.0.3-py3-none-any.whl (227 kB)\n",
      "Downloading wheel-0.43.0-py3-none-any.whl (65 kB)\n",
      "   ---------------------------------------- 0.0/65.8 kB ? eta -:--:--\n",
      "   ---------------------------------------- 65.8/65.8 kB 3.7 MB/s eta 0:00:00\n",
      "Installing collected packages: pytz, aniso8601, wheel, six, setuptools, numpy, MarkupSafe, itsdangerous, colorama, blinker, Werkzeug, opencv-python, Jinja2, click\n",
      "Successfully installed Jinja2-3.1.4 MarkupSafe-2.1.5 Werkzeug-3.0.3 aniso8601-9.0.1 blinker-1.8.2 click-8.1.7 colorama-0.4.6 itsdangerous-2.2.0 numpy-1.26.4 opencv-python-4.10.0.82 pytz-2024.1 setuptools-69.5.1 six-1.16.0 wheel-0.43.0\n"
     ]
    }
   ],
   "source": [
    "!pip install -r \"C:\\Users\\Alexander Lorenz\\Documents\\GitHub\\object-detection-aaf\\requirements.txt\" -t \"../lib\""
   ]
  }
 ],
 "metadata": {
  "kernelspec": {
   "display_name": "dic-ex3",
   "language": "python",
   "name": "python3"
  },
  "language_info": {
   "codemirror_mode": {
    "name": "ipython",
    "version": 3
   },
   "file_extension": ".py",
   "mimetype": "text/x-python",
   "name": "python",
   "nbconvert_exporter": "python",
   "pygments_lexer": "ipython3",
   "version": "3.12.3"
  }
 },
 "nbformat": 4,
 "nbformat_minor": 2
}
