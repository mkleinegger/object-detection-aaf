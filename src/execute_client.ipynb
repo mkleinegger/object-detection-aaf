{
 "cells": [
  {
   "cell_type": "markdown",
   "metadata": {},
   "source": [
    "Execute client"
   ]
  },
  {
   "cell_type": "code",
   "execution_count": 3,
   "metadata": {},
   "outputs": [],
   "source": [
    "INPUT_FOLDER = \"../input_data/\"\n",
    "ENDPOINT = \"http://127.0.0.1:5000/api/object_detection\""
   ]
  },
  {
   "cell_type": "code",
   "execution_count": 4,
   "metadata": {},
   "outputs": [
    {
     "name": "stdout",
     "output_type": "stream",
     "text": [
      "{'id': '84292e89-7aa0-4421-b580-8694049fcae6', 'objects': []}\n",
      "{'id': '9fdeda6c-599c-4eda-89f7-b70d7cc5b7ea', 'objects': [{'label': 'person', 'accuracy': 0.8198175430297852}, {'label': 'sports ball', 'accuracy': 0.6291966438293457}]}\n",
      "{'id': '82110f86-6aec-4c25-9af2-ec08e4c8a5ab', 'objects': [{'label': 'cow', 'accuracy': 0.6395580768585205}]}\n",
      "{'id': '8ee79c36-f448-4fa8-a3b9-a9142152a350', 'objects': [{'label': 'person', 'accuracy': 0.8698837161064148}, {'label': 'tennis racket', 'accuracy': 0.6463392376899719}]}\n",
      "{'id': '12c3c3bb-1447-4593-ad2a-853d7b5959e3', 'objects': [{'label': 'person', 'accuracy': 0.9276288747787476}]}\n",
      "{'id': 'c481fc7e-2001-4cc0-a41f-727d063c089f', 'objects': [{'label': 'wine glass', 'accuracy': 0.5744618773460388}, {'label': 'person', 'accuracy': 0.6317387819290161}]}\n",
      "{'id': '3692d2b6-ba2b-41dd-9034-c61ed4c02431', 'objects': [{'label': 'zebra', 'accuracy': 0.9284520149230957}]}\n",
      "{'id': 'd727d1b4-57e0-489e-b9a0-4ccee7aabbed', 'objects': [{'label': 'cow', 'accuracy': 0.8048258423805237}]}\n",
      "{'id': '5de1af99-0468-4e81-8fee-74e950ad1ec6', 'objects': [{'label': 'frisbee', 'accuracy': 0.5882787704467773}]}\n",
      "{'id': '1727471f-9f5e-41cb-93ac-afd09f324d60', 'objects': [{'label': 'train', 'accuracy': 0.9197226762771606}]}\n",
      "{'id': '60ea8510-6155-4aef-bc51-a7b2763f04e0', 'objects': [{'label': 'elephant', 'accuracy': 0.9559025764465332}]}\n",
      "{'id': 'c55b36a5-0f61-41cd-8798-ebad4c13a55f', 'objects': []}\n",
      "{'id': 'e27650d7-4738-453c-9247-d572b1b3a84c', 'objects': [{'label': 'carrot', 'accuracy': 0.5723804831504822}]}\n",
      "{'id': '99edf531-252d-4a5d-866c-280bf041a7ea', 'objects': [{'label': 'tie', 'accuracy': 0.5115311145782471}]}\n",
      "{'id': '873ec71b-e178-4114-b8c3-199a600fcd8e', 'objects': [{'label': 'motorbike', 'accuracy': 0.8320334553718567}]}\n",
      "{'id': 'c5132393-3771-4c29-b32f-64f091f8f55d', 'objects': []}\n",
      "{'id': '20063249-293d-4a31-8fbc-41a1b26b58a0', 'objects': [{'label': 'wine glass', 'accuracy': 0.8457478284835815}, {'label': 'pizza', 'accuracy': 0.62665855884552}, {'label': 'bottle', 'accuracy': 0.526292085647583}]}\n",
      "{'id': '38665a81-483b-4475-82b9-3886bad3a8b1', 'objects': []}\n",
      "{'id': 'dd8b8e3b-d12e-4fd4-8070-245c251dff69', 'objects': []}\n",
      "{'id': '7125235a-216d-41be-b1c3-9cc1ee49ee43', 'objects': [{'label': 'person', 'accuracy': 0.5677587389945984}, {'label': 'tie', 'accuracy': 0.5160541534423828}]}\n",
      "{'id': 'a572c793-b854-411b-a7d8-8ff26007ee72', 'objects': []}\n",
      "{'id': '26b42deb-01f6-4a1d-b7cf-60b3a5a844b7', 'objects': [{'label': 'person', 'accuracy': 0.8384290337562561}]}\n",
      "{'id': '49812363-6bae-4eef-8fa7-c9563e21b94d', 'objects': []}\n",
      "{'id': 'b0723886-7df8-4c74-9319-4af9fb6e07d7', 'objects': []}\n",
      "{'id': 'ed082195-700f-4298-ac46-f2ad83135454', 'objects': []}\n",
      "{'id': 'd223f828-be2e-410f-beb3-388bd354eccd', 'objects': [{'label': 'clock', 'accuracy': 0.877075731754303}]}\n",
      "{'id': '6daadb14-4c79-46f3-a452-b17e68f112a1', 'objects': []}\n",
      "{'id': '77868676-09c2-44b8-85ec-bedc2e4034ec', 'objects': [{'label': 'person', 'accuracy': 0.5097712874412537}]}\n",
      "{'id': '15ba252e-cc71-4ff7-a67f-90703ad16e4b', 'objects': []}\n",
      "{'id': 'aca4d64d-b476-45d6-8e99-582e4ccdec49', 'objects': [{'label': 'person', 'accuracy': 0.6836830377578735}]}\n",
      "{'id': '58a17ca9-6f29-42b0-a40d-43892ccc369c', 'objects': [{'label': 'boat', 'accuracy': 0.6701053380966187}]}\n",
      "{'id': '574f4feb-9a7f-439b-95dd-6f9aae2f1238', 'objects': []}\n",
      "{'id': 'f991a21e-ee5d-4da5-80b4-e01da8691e7c', 'objects': [{'label': 'person', 'accuracy': 0.6708400249481201}, {'label': 'cup', 'accuracy': 0.7422289848327637}, {'label': 'bowl', 'accuracy': 0.6237394213676453}]}\n",
      "{'id': '50d1c321-396b-4431-89cc-a8f9737f29bf', 'objects': [{'label': 'person', 'accuracy': 0.6294313073158264}]}\n",
      "{'id': '3bb724ce-cce0-404b-9a43-cb858cda84bb', 'objects': [{'label': 'person', 'accuracy': 0.68399977684021}]}\n",
      "{'id': '85e24587-3432-48dc-8952-99c1595f148c', 'objects': []}\n",
      "{'id': '2a7ffbef-3669-4db8-8c73-08864682f3c5', 'objects': []}\n",
      "{'id': '0588ca49-54c1-4700-9530-f1b14b8520f5', 'objects': [{'label': 'laptop', 'accuracy': 0.9457632303237915}, {'label': 'tvmonitor', 'accuracy': 0.7987861633300781}, {'label': 'keyboard', 'accuracy': 0.7382356524467468}, {'label': 'mouse', 'accuracy': 0.7134348750114441}]}\n",
      "{'id': '79b11bae-ee88-47f0-8554-2c288790b31a', 'objects': [{'label': 'zebra', 'accuracy': 0.857231855392456}]}\n",
      "{'id': '652dcd09-b77a-4be7-a027-3853dfbae773', 'objects': []}\n",
      "{'id': '3a3c2261-2922-4f26-b924-44c8d2863d7e', 'objects': [{'label': 'fire hydrant', 'accuracy': 0.9159075021743774}]}\n",
      "{'id': 'ee38b833-7eac-4cb9-80c2-4c948e3a2d39', 'objects': [{'label': 'tennis racket', 'accuracy': 0.9044536352157593}, {'label': 'person', 'accuracy': 0.7885273098945618}]}\n",
      "{'id': 'd7c2d1a9-9f57-4d8f-9299-adec2a878191', 'objects': [{'label': 'cell phone', 'accuracy': 0.6951825618743896}]}\n",
      "{'id': '8b638383-920e-484d-98f7-6fc22a37116f', 'objects': [{'label': 'parking meter', 'accuracy': 0.6066499352455139}]}\n",
      "{'id': 'e9642d06-25fa-4a18-880d-919f260ed07a', 'objects': [{'label': 'person', 'accuracy': 0.5078178644180298}]}\n",
      "{'id': '77034871-8c6f-49cd-8d9e-7255e18393e2', 'objects': [{'label': 'aeroplane', 'accuracy': 0.6291376948356628}]}\n",
      "{'id': '1d0b126f-bf78-48a8-860a-c9ace56e8541', 'objects': [{'label': 'person', 'accuracy': 0.7103785872459412}]}\n",
      "{'id': 'bdd0f4d1-b947-4f1d-b1e6-d2ed366072c3', 'objects': []}\n",
      "{'id': '2ed5575f-421d-4ce3-94ed-321e84f9d917', 'objects': [{'label': 'tvmonitor', 'accuracy': 0.8826243877410889}, {'label': 'person', 'accuracy': 0.6008952856063843}]}\n",
      "{'id': '2fb80bd3-2959-4e1f-b356-96f0469afdfb', 'objects': []}\n",
      "{'id': '08eb91e1-4a4b-4a0d-8ed0-abb06d563a38', 'objects': [{'label': 'cat', 'accuracy': 0.6615480184555054}, {'label': 'person', 'accuracy': 0.5334598422050476}]}\n",
      "{'id': '799711fd-5db7-4ec7-b6d3-66d09e2635d1', 'objects': [{'label': 'person', 'accuracy': 0.6710710525512695}]}\n",
      "{'id': 'ebdcb794-9c25-4db7-9ff9-046d195740c5', 'objects': [{'label': 'person', 'accuracy': 0.7569429278373718}, {'label': 'pottedplant', 'accuracy': 0.5045344829559326}]}\n",
      "{'id': 'b2f9254d-bbb6-4795-b3c8-ee11f532ac33', 'objects': [{'label': 'bus', 'accuracy': 0.8302894830703735}]}\n",
      "{'id': '29d59208-de27-4ceb-bab6-743d4422fb43', 'objects': [{'label': 'chair', 'accuracy': 0.5170283913612366}]}\n",
      "{'id': '873f0c1a-a0c2-46ad-be56-d7dc311aa492', 'objects': [{'label': 'person', 'accuracy': 0.8530287742614746}, {'label': 'sports ball', 'accuracy': 0.7321022748947144}]}\n",
      "{'id': '4d29ff0e-ce84-4a86-83cf-62594a032048', 'objects': []}\n",
      "{'id': '271fbe63-f96f-43e6-a909-a13f3b114ac9', 'objects': []}\n",
      "{'id': '18214d06-51ba-4582-a82a-ce787d300e11', 'objects': [{'label': 'stop sign', 'accuracy': 0.9213705658912659}, {'label': 'car', 'accuracy': 0.6973753571510315}]}\n",
      "{'id': '3c5c4010-6047-46de-8cb0-7935c43d741e', 'objects': []}\n",
      "{'id': '378282c7-5099-4258-aad1-fa6990af3a58', 'objects': [{'label': 'oven', 'accuracy': 0.6911782026290894}, {'label': 'sink', 'accuracy': 0.7101945877075195}, {'label': 'microwave', 'accuracy': 0.6374997496604919}, {'label': 'refrigerator', 'accuracy': 0.5849629640579224}]}\n",
      "{'id': 'fa367371-280e-4fc5-87a3-1efbdcda79be', 'objects': []}\n",
      "{'id': 'ce2c9383-5961-4b1f-ae82-7693786037e2', 'objects': []}\n",
      "{'id': 'b5b1bda4-fb51-48d2-a24f-7b86638bd64d', 'objects': []}\n",
      "{'id': '4fd01480-192a-406f-a479-ef4da77e0254', 'objects': [{'label': 'cat', 'accuracy': 0.5109599828720093}]}\n",
      "{'id': '57be858e-540b-4c72-8523-07d068bc7cc5', 'objects': [{'label': 'person', 'accuracy': 0.7264796495437622}]}\n",
      "{'id': '6040d5da-c8d4-456c-99bc-f155b6a36c73', 'objects': [{'label': 'bird', 'accuracy': 0.5754974484443665}]}\n",
      "{'id': '4e62137a-a916-4254-985f-c7d9666d57b7', 'objects': [{'label': 'fork', 'accuracy': 0.5636112689971924}]}\n",
      "{'id': '1add49a7-3130-464f-b65a-b4caf31f0682', 'objects': [{'label': 'giraffe', 'accuracy': 0.7347346544265747}]}\n",
      "{'id': 'f63cf590-f5a0-4aca-9a2f-0c92f7067ca9', 'objects': [{'label': 'cat', 'accuracy': 0.9319427609443665}]}\n",
      "{'id': 'fac97b99-d234-42e3-bef8-734fc28ead15', 'objects': []}\n",
      "{'id': 'c7d174dc-0171-442b-8464-6ee261ca0f39', 'objects': [{'label': 'motorbike', 'accuracy': 0.5024407505989075}]}\n",
      "{'id': 'd4fc66df-700b-4a01-b28b-61e759c2e8d8', 'objects': []}\n",
      "{'id': '6da0c130-03c6-4bf3-8f3a-05b650eb2b91', 'objects': [{'label': 'person', 'accuracy': 0.5420879125595093}]}\n",
      "{'id': '47977cec-d8c1-4e44-b368-11f346da7285', 'objects': [{'label': 'sports ball', 'accuracy': 0.968140184879303}, {'label': 'tennis racket', 'accuracy': 0.6060899496078491}]}\n",
      "{'id': '5161d92f-03d6-45a2-bb01-e771b0abb1f4', 'objects': [{'label': 'hot dog', 'accuracy': 0.9235485792160034}]}\n",
      "{'id': '8130b0ee-e9c2-42e9-830c-d7b95e0f785a', 'objects': [{'label': 'traffic light', 'accuracy': 0.6498695015907288}]}\n",
      "{'id': 'dd98385d-6c8c-4392-af03-d8815d070b99', 'objects': [{'label': 'car', 'accuracy': 0.5392357110977173}]}\n",
      "{'id': 'd8860c19-b804-4b0c-a1d9-5a923e713c9f', 'objects': [{'label': 'person', 'accuracy': 0.6373527646064758}]}\n",
      "{'id': '4664eb07-fc8a-45c9-9c1f-b0e9f1779d9b', 'objects': []}\n",
      "{'id': 'eb7d0b69-4f4c-49df-bed1-5a516637c906', 'objects': [{'label': 'person', 'accuracy': 0.8680655360221863}]}\n",
      "{'id': '4a5afa5b-d09a-4a44-a396-a15967ca5cdf', 'objects': [{'label': 'chair', 'accuracy': 0.5437053442001343}]}\n",
      "{'id': '889557ea-e8bb-4795-9e4c-23a7eadfb9e0', 'objects': [{'label': 'chair', 'accuracy': 0.7197519540786743}]}\n",
      "{'id': '749c968c-467c-42e5-a214-a901d1f0e75f', 'objects': []}\n",
      "{'id': '5a4e27ae-813b-4b37-927e-c58cc38736a9', 'objects': []}\n",
      "{'id': '09806f03-de64-4693-8626-ba5f34e51461', 'objects': [{'label': 'toilet', 'accuracy': 0.9725949764251709}]}\n",
      "{'id': '01da1fbc-ea2b-4496-925c-2ff6a5779888', 'objects': []}\n",
      "{'id': '38598ffa-62ae-4e5d-a0d4-0f7965a4f793', 'objects': []}\n",
      "{'id': 'dc72db16-4e7b-46a9-a4b4-f82d19f03176', 'objects': [{'label': 'giraffe', 'accuracy': 0.6294236779212952}]}\n",
      "{'id': 'a81daa0e-7886-4c43-921e-f88493d37c67', 'objects': []}\n",
      "{'id': '27db7070-72d6-4bf6-8014-22747e9a412b', 'objects': [{'label': 'person', 'accuracy': 0.8369681239128113}]}\n",
      "{'id': '70c7548c-fa78-4e7e-b224-f76f0d23ebf3', 'objects': []}\n",
      "{'id': '50542802-83a5-42bf-bc82-a7b7265cd248', 'objects': [{'label': 'person', 'accuracy': 0.9592577815055847}, {'label': 'skateboard', 'accuracy': 0.6205522418022156}]}\n",
      "{'id': 'fad97fe2-3c0e-4644-8bf4-72ebc4e9350d', 'objects': [{'label': 'backpack', 'accuracy': 0.6387631893157959}, {'label': 'person', 'accuracy': 0.5220975875854492}]}\n",
      "{'id': '7aeb743a-5a4a-4c88-bc18-18e4945ad05d', 'objects': [{'label': 'car', 'accuracy': 0.6390714049339294}]}\n",
      "{'id': 'c2d9cf20-2392-4b47-b230-36fb392cf0c3', 'objects': [{'label': 'clock', 'accuracy': 0.8320177793502808}]}\n",
      "{'id': 'ea4a42b6-4922-4a6a-9c78-e6aa29613e27', 'objects': [{'label': 'kite', 'accuracy': 0.6215581893920898}]}\n",
      "{'id': 'b43e661f-3e15-4bf5-a6ba-47df45ec9f31', 'objects': [{'label': 'person', 'accuracy': 0.8373982310295105}, {'label': 'tennis racket', 'accuracy': 0.5805988907814026}]}\n",
      "{'id': '02ced39b-8448-40e9-b1fc-0a33ae651df7', 'objects': [{'label': 'zebra', 'accuracy': 0.8473095297813416}]}\n",
      "{'id': 'e2a27b5e-dd1e-4dac-b4a0-80281384a8b9', 'objects': []}\n"
     ]
    }
   ],
   "source": [
    "!python client.py $INPUT_FOLDER $ENDPOINT"
   ]
  }
 ],
 "metadata": {
  "kernelspec": {
   "display_name": "yolo-cv",
   "language": "python",
   "name": "python3"
  },
  "language_info": {
   "codemirror_mode": {
    "name": "ipython",
    "version": 3
   },
   "file_extension": ".py",
   "mimetype": "text/x-python",
   "name": "python",
   "nbconvert_exporter": "python",
   "pygments_lexer": "ipython3",
   "version": "3.12.3"
  }
 },
 "nbformat": 4,
 "nbformat_minor": 2
}
