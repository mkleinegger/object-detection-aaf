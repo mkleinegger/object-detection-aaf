{
 "cells": [
  {
   "cell_type": "markdown",
   "metadata": {},
   "source": [
    "Execute client"
   ]
  },
  {
   "cell_type": "code",
   "execution_count": 2,
   "metadata": {},
   "outputs": [],
   "source": [
    "INPUT_FOLDER = \"../input_data/\"\n",
    "ENDPOINT = \"http://127.0.0.1:5000/api/object_detection\""
   ]
  },
  {
   "cell_type": "code",
   "execution_count": 10,
   "metadata": {},
   "outputs": [
    {
     "name": "stdout",
     "output_type": "stream",
     "text": [
      "{'id': 'cba39ffc-5229-4af0-ae3e-7b7a62f86cd9', 'objects': [{'label': 'toilet', 'accuracy': 0.9725949764251709}], 'Inference-Time': '0.29433393478393555'}\n",
      "{'id': '35b9229f-b664-4104-8a67-ae5b3116de90', 'objects': [{'label': 'oven', 'accuracy': 0.6911782026290894}, {'label': 'sink', 'accuracy': 0.7101945877075195}, {'label': 'microwave', 'accuracy': 0.6374997496604919}, {'label': 'refrigerator', 'accuracy': 0.5849629640579224}], 'Inference-Time': '0.0745081901550293'}\n",
      "{'id': '0f67fd2f-ed5e-4058-bdc0-54d99152dbc9', 'objects': [{'label': 'sports ball', 'accuracy': 0.968140184879303}, {'label': 'tennis racket', 'accuracy': 0.6060899496078491}], 'Inference-Time': '0.07550597190856934'}\n",
      "{'id': '74bfd53a-4393-4a59-a94f-42a67c249514', 'objects': [{'label': 'person', 'accuracy': 0.5677587389945984}, {'label': 'tie', 'accuracy': 0.5160541534423828}], 'Inference-Time': '0.06636810302734375'}\n",
      "{'id': '2bf31ee8-e845-4ef5-be30-2873b1da4011', 'objects': [], 'Inference-Time': '0.0650479793548584'}\n",
      "{'id': 'c18c0435-c240-4074-9df5-40001e055201', 'objects': [{'label': 'parking meter', 'accuracy': 0.6066499352455139}], 'Inference-Time': '0.0704190731048584'}\n",
      "{'id': '3e8b1b3e-1158-4c15-a7ea-3d499f197910', 'objects': [{'label': 'person', 'accuracy': 0.9592577815055847}, {'label': 'skateboard', 'accuracy': 0.6205522418022156}], 'Inference-Time': '0.05683088302612305'}\n",
      "{'id': '010f1577-225a-4b56-b9c5-e137e36611a1', 'objects': [{'label': 'cat', 'accuracy': 0.9319427609443665}], 'Inference-Time': '0.05639290809631348'}\n",
      "{'id': '4a95390d-bab0-4daa-9f0b-2611e2b12867', 'objects': [], 'Inference-Time': '0.055757999420166016'}\n",
      "{'id': '9c6ad617-b609-4ca2-9da2-e3130c256c29', 'objects': [{'label': 'carrot', 'accuracy': 0.5723804831504822}], 'Inference-Time': '0.05847501754760742'}\n",
      "{'id': 'a0d8e75e-3183-4d39-9b1a-9c2de1bad4c4', 'objects': [], 'Inference-Time': '0.05942511558532715'}\n",
      "{'id': 'f1e2f509-b672-428a-b86a-886b9816dcab', 'objects': [], 'Inference-Time': '0.05800604820251465'}\n",
      "{'id': 'fd85df7f-dd9d-430d-9c9c-9440abf607f3', 'objects': [{'label': 'stop sign', 'accuracy': 0.9213705658912659}, {'label': 'car', 'accuracy': 0.6973753571510315}], 'Inference-Time': '0.06311511993408203'}\n",
      "{'id': 'e045c583-a16b-48ea-8fcb-ce984db3e46e', 'objects': [], 'Inference-Time': '0.06774115562438965'}\n",
      "{'id': '6e01bedc-477b-4ad4-b61a-554e3c35805c', 'objects': [{'label': 'person', 'accuracy': 0.8198175430297852}, {'label': 'sports ball', 'accuracy': 0.6291966438293457}], 'Inference-Time': '0.06004619598388672'}\n",
      "{'id': '8abdd4bb-0e34-46c3-8793-b7b7a9690aaf', 'objects': [{'label': 'backpack', 'accuracy': 0.6387631893157959}, {'label': 'person', 'accuracy': 0.5220975875854492}], 'Inference-Time': '0.05650901794433594'}\n",
      "{'id': '4e1a64a0-d8b8-4f82-99a4-9736979d8907', 'objects': [{'label': 'boat', 'accuracy': 0.6701053380966187}], 'Inference-Time': '0.05498385429382324'}\n",
      "{'id': '7060bacb-a134-48c1-98f9-575d34c213ad', 'objects': [], 'Inference-Time': '0.057175636291503906'}\n",
      "{'id': 'a9f2334c-0976-401f-8f3c-8e60e3533268', 'objects': [], 'Inference-Time': '0.05968284606933594'}\n",
      "{'id': '989bc7c9-4b65-438b-a416-085eb6c83564', 'objects': [{'label': 'giraffe', 'accuracy': 0.7347346544265747}], 'Inference-Time': '0.059227705001831055'}\n",
      "{'id': '3070c836-ae45-4ab2-b74d-6d3c1691ee4f', 'objects': [{'label': 'person', 'accuracy': 0.8369681239128113}], 'Inference-Time': '0.05213189125061035'}\n",
      "{'id': '0fc9b8b6-232b-4ffc-9199-7aa0b96ba871', 'objects': [], 'Inference-Time': '0.06176614761352539'}\n",
      "{'id': 'f76dfcff-9a78-4969-b077-bc15570bba5d', 'objects': [{'label': 'car', 'accuracy': 0.5392357110977173}], 'Inference-Time': '0.07053685188293457'}\n",
      "{'id': 'f48526b9-0cba-41e4-af12-7c2cf42fdabf', 'objects': [{'label': 'person', 'accuracy': 0.8373982310295105}, {'label': 'tennis racket', 'accuracy': 0.5805988907814026}], 'Inference-Time': '0.05918383598327637'}\n",
      "{'id': '1c8a61d1-63e5-4144-8f6f-6e30f541da7c', 'objects': [{'label': 'tie', 'accuracy': 0.5115311145782471}], 'Inference-Time': '0.0551609992980957'}\n",
      "{'id': 'ea6d5e0e-9cd3-4ae7-9069-d88ef6b21c8a', 'objects': [{'label': 'fire hydrant', 'accuracy': 0.9159075021743774}], 'Inference-Time': '0.06147933006286621'}\n",
      "{'id': 'f2be8d8b-2ea4-466e-bfff-af00c25e4dca', 'objects': [], 'Inference-Time': '0.056269168853759766'}\n",
      "{'id': '1b2d8b3b-37ee-4d68-b236-3b48121f9c0c', 'objects': [{'label': 'motorbike', 'accuracy': 0.5024407505989075}], 'Inference-Time': '0.06425976753234863'}\n",
      "{'id': '143b5347-4b78-4a18-901c-328593345676', 'objects': [{'label': 'person', 'accuracy': 0.8384290337562561}], 'Inference-Time': '0.06524491310119629'}\n",
      "{'id': '7a25e669-3f0a-4bfa-b76a-d3fae31a17a1', 'objects': [{'label': 'hot dog', 'accuracy': 0.9235485792160034}], 'Inference-Time': '0.05573296546936035'}\n",
      "{'id': '9561e172-84c8-4a02-aae7-82ce94937d07', 'objects': [{'label': 'traffic light', 'accuracy': 0.6498695015907288}], 'Inference-Time': '0.05719590187072754'}\n",
      "{'id': 'af534f74-645b-4038-9da8-6f4b71394cf8', 'objects': [], 'Inference-Time': '0.057473182678222656'}\n",
      "{'id': '8fd60729-72f4-4a3c-9aa1-28cf678efee0', 'objects': [], 'Inference-Time': '0.06560730934143066'}\n",
      "{'id': 'f150f0ca-dddd-4be8-bda4-b44220f20c4c', 'objects': [], 'Inference-Time': '0.05990481376647949'}\n",
      "{'id': '04d2c59e-1631-4487-889a-ad85db8a6278', 'objects': [{'label': 'chair', 'accuracy': 0.7197519540786743}], 'Inference-Time': '0.0589146614074707'}\n",
      "{'id': 'd62f774c-65ec-4c15-b55d-d4f0a4b303c9', 'objects': [{'label': 'person', 'accuracy': 0.9276288747787476}], 'Inference-Time': '0.06803607940673828'}\n",
      "{'id': '9bfe8f5f-b07c-4ebb-8c1b-8feb345571b1', 'objects': [], 'Inference-Time': '0.059027910232543945'}\n",
      "{'id': 'bdce44ae-96a3-47f4-9018-00b14f6b0a74', 'objects': [], 'Inference-Time': '0.06051468849182129'}\n",
      "{'id': '73a81100-7f11-44eb-aab0-7207131bce8b', 'objects': [{'label': 'tvmonitor', 'accuracy': 0.8826243877410889}, {'label': 'person', 'accuracy': 0.6008952856063843}], 'Inference-Time': '0.05986189842224121'}\n",
      "{'id': 'c5751579-5af7-4daa-818d-e094356ef2a0', 'objects': [{'label': 'elephant', 'accuracy': 0.9559025764465332}], 'Inference-Time': '0.05421805381774902'}\n",
      "{'id': 'a322c892-69a1-4c24-b0d3-e9f801056270', 'objects': [{'label': 'clock', 'accuracy': 0.877075731754303}], 'Inference-Time': '0.06281185150146484'}\n",
      "{'id': 'e65697bc-ebcf-4005-a3a7-36096dee6cf6', 'objects': [{'label': 'chair', 'accuracy': 0.5437053442001343}], 'Inference-Time': '0.07215309143066406'}\n",
      "{'id': '1e9d7901-06d3-4f7e-b5f8-20c3a370e1b2', 'objects': [{'label': 'person', 'accuracy': 0.6708400249481201}, {'label': 'cup', 'accuracy': 0.7422289848327637}, {'label': 'bowl', 'accuracy': 0.6237394213676453}], 'Inference-Time': '0.05902385711669922'}\n",
      "{'id': '7c21c584-649d-44f1-a9ee-b5ce9934e1e5', 'objects': [], 'Inference-Time': '0.051077842712402344'}\n",
      "{'id': 'e396b550-07ba-4a84-9a5f-61ac0bcf49a1', 'objects': [], 'Inference-Time': '0.1049649715423584'}\n",
      "{'id': '44a2306b-1b55-4cd0-9945-b8c5d881d106', 'objects': [{'label': 'person', 'accuracy': 0.6710710525512695}], 'Inference-Time': '0.07359194755554199'}\n",
      "{'id': 'bc493b18-646b-4d7d-965f-196973e989a6', 'objects': [], 'Inference-Time': '0.0615382194519043'}\n",
      "{'id': 'e94265b0-8ece-439a-8e32-283c0a5cac59', 'objects': [{'label': 'person', 'accuracy': 0.7264796495437622}], 'Inference-Time': '0.06456518173217773'}\n",
      "{'id': '51fde14e-01e5-4516-95d1-30fb1febeb6c', 'objects': [{'label': 'cat', 'accuracy': 0.6615480184555054}, {'label': 'person', 'accuracy': 0.5334598422050476}], 'Inference-Time': '0.08094978332519531'}\n",
      "{'id': 'd5ca78fb-c2cb-4f33-92fd-148ccb56067b', 'objects': [{'label': 'frisbee', 'accuracy': 0.5882787704467773}], 'Inference-Time': '0.061903953552246094'}\n",
      "{'id': '7465d361-46ad-4639-86e9-6c23bfb8c94c', 'objects': [{'label': 'person', 'accuracy': 0.7103785872459412}], 'Inference-Time': '0.06519579887390137'}\n",
      "{'id': 'f58c8dbc-200e-4924-a4ea-2c0759cef3fd', 'objects': [{'label': 'person', 'accuracy': 0.6373527646064758}], 'Inference-Time': '0.05501604080200195'}\n",
      "{'id': '6da67fbe-6fbb-4294-b048-0431a75f393b', 'objects': [{'label': 'fork', 'accuracy': 0.5636112689971924}], 'Inference-Time': '0.058563947677612305'}\n",
      "{'id': '7155f21b-0236-48cc-8cd2-ec555b12edbd', 'objects': [], 'Inference-Time': '0.06061911582946777'}\n",
      "{'id': 'e5b1abac-6765-45ea-bebc-6e27c75f52d3', 'objects': [], 'Inference-Time': '0.05737805366516113'}\n",
      "{'id': '455df799-edc6-44e0-a895-f6e7f2cbf1ce', 'objects': [{'label': 'cat', 'accuracy': 0.5109599828720093}], 'Inference-Time': '0.06023883819580078'}\n",
      "{'id': 'e6c346cc-7eae-4ea4-8b8c-473107cd27b1', 'objects': [{'label': 'chair', 'accuracy': 0.5170283913612366}], 'Inference-Time': '0.05728411674499512'}\n",
      "{'id': 'd93f3c46-a0b4-4b38-b9c8-ad81aa4f0c32', 'objects': [{'label': 'zebra', 'accuracy': 0.9284520149230957}], 'Inference-Time': '0.06833839416503906'}\n",
      "{'id': 'c46c9151-ccc3-492e-bb7c-13e2f6e5c1bf', 'objects': [{'label': 'person', 'accuracy': 0.8698837161064148}, {'label': 'tennis racket', 'accuracy': 0.6463392376899719}], 'Inference-Time': '0.062094926834106445'}\n",
      "{'id': '6cc0aaf0-f31f-44ef-8d4d-eb92bdf741cd', 'objects': [{'label': 'person', 'accuracy': 0.8530287742614746}, {'label': 'sports ball', 'accuracy': 0.7321022748947144}], 'Inference-Time': '0.07493996620178223'}\n",
      "{'id': 'b0afe543-0e62-4fc7-9c3b-a1de30cff51c', 'objects': [{'label': 'zebra', 'accuracy': 0.857231855392456}], 'Inference-Time': '0.062313079833984375'}\n",
      "{'id': '8b520b5a-efd8-4f25-855c-d14a047e4177', 'objects': [{'label': 'person', 'accuracy': 0.6294313073158264}], 'Inference-Time': '0.06089615821838379'}\n",
      "{'id': '06046e34-386d-4832-a86d-471f45c0af3a', 'objects': [{'label': 'person', 'accuracy': 0.7569429278373718}, {'label': 'pottedplant', 'accuracy': 0.5045344829559326}], 'Inference-Time': '0.06304621696472168'}\n",
      "{'id': '9b667248-6e83-401e-ba11-7f300b706599', 'objects': [{'label': 'aeroplane', 'accuracy': 0.6291376948356628}], 'Inference-Time': '0.059429168701171875'}\n",
      "{'id': 'f154bab6-88d4-4558-952a-35f2903723ab', 'objects': [], 'Inference-Time': '0.05720877647399902'}\n",
      "{'id': 'edae9e39-0191-4ad6-b485-b454ad81f663', 'objects': [{'label': 'person', 'accuracy': 0.8680655360221863}], 'Inference-Time': '0.05970907211303711'}\n",
      "{'id': '12712880-fdef-447b-aadc-25525daa92b6', 'objects': [{'label': 'wine glass', 'accuracy': 0.5744618773460388}, {'label': 'person', 'accuracy': 0.6317387819290161}], 'Inference-Time': '0.062355995178222656'}\n",
      "{'id': '6501a392-e6b0-4457-81c1-459c8a792a30', 'objects': [{'label': 'train', 'accuracy': 0.9197226762771606}], 'Inference-Time': '0.06197524070739746'}\n",
      "{'id': '778dac14-81b4-46db-a80d-85af071f5c60', 'objects': [{'label': 'bird', 'accuracy': 0.5754974484443665}], 'Inference-Time': '0.06358027458190918'}\n",
      "{'id': '1060971c-6b6e-4a77-a251-362b37048ddd', 'objects': [], 'Inference-Time': '0.06110119819641113'}\n",
      "{'id': 'f487d8e7-4818-43c0-8781-4346234e7d92', 'objects': [{'label': 'laptop', 'accuracy': 0.9457632303237915}, {'label': 'tvmonitor', 'accuracy': 0.7987861633300781}, {'label': 'keyboard', 'accuracy': 0.7382356524467468}, {'label': 'mouse', 'accuracy': 0.7134348750114441}], 'Inference-Time': '0.05949687957763672'}\n",
      "{'id': '496f85db-1a8b-4e69-8317-bfa2496e048b', 'objects': [{'label': 'bus', 'accuracy': 0.8302894830703735}], 'Inference-Time': '0.05809521675109863'}\n",
      "{'id': '8f7f84fc-f454-49dd-9f51-60d00b415c21', 'objects': [], 'Inference-Time': '0.06323504447937012'}\n",
      "{'id': 'ef016923-7368-4858-ad60-49f87bfaa0fd', 'objects': [], 'Inference-Time': '0.05709695816040039'}\n",
      "{'id': 'd15e8ee1-06f7-49a3-942e-20817cebe622', 'objects': [], 'Inference-Time': '0.05783820152282715'}\n",
      "{'id': '813eb58d-7437-4977-adc2-7d38164d9977', 'objects': [{'label': 'cow', 'accuracy': 0.8048258423805237}], 'Inference-Time': '0.05764508247375488'}\n",
      "{'id': '2572cc0f-7956-44bc-8094-8bed83b20c8f', 'objects': [], 'Inference-Time': '0.060317039489746094'}\n",
      "{'id': 'e61782d3-12d6-4650-9d04-cf5e690f1855', 'objects': [{'label': 'zebra', 'accuracy': 0.8473095297813416}], 'Inference-Time': '0.07245898246765137'}\n",
      "{'id': '247bc30c-fad5-46fd-b392-a61727de6f1f', 'objects': [{'label': 'person', 'accuracy': 0.68399977684021}], 'Inference-Time': '0.06402206420898438'}\n",
      "{'id': '66b5dd7c-4a65-42f5-8a30-284ecdfb9d8a', 'objects': [{'label': 'person', 'accuracy': 0.5097712874412537}], 'Inference-Time': '0.062416791915893555'}\n",
      "{'id': '11b61964-cb84-4900-9843-49d6ee4b80cb', 'objects': [], 'Inference-Time': '0.06100296974182129'}\n",
      "{'id': '312b521f-f037-4475-a7c3-dbecae51d8dc', 'objects': [{'label': 'clock', 'accuracy': 0.8320177793502808}], 'Inference-Time': '0.05542778968811035'}\n",
      "{'id': '51f6f248-269d-4055-aa2f-319c31a21e59', 'objects': [], 'Inference-Time': '0.05988621711730957'}\n",
      "{'id': 'dafdd303-e84c-40a0-8a4f-ecf762c2df1a', 'objects': [{'label': 'giraffe', 'accuracy': 0.6294236779212952}], 'Inference-Time': '0.059899091720581055'}\n",
      "{'id': 'e6ba4ca8-a3d0-4b4a-a137-b34faa119fc9', 'objects': [{'label': 'kite', 'accuracy': 0.6215581893920898}], 'Inference-Time': '0.061373233795166016'}\n",
      "{'id': '626ff528-323a-4466-96cc-ddf2f223d7cf', 'objects': [{'label': 'wine glass', 'accuracy': 0.8457478284835815}, {'label': 'pizza', 'accuracy': 0.62665855884552}, {'label': 'bottle', 'accuracy': 0.526292085647583}], 'Inference-Time': '0.05911111831665039'}\n",
      "{'id': 'a7977120-fbc4-409d-98e0-86264fc55fc3', 'objects': [{'label': 'person', 'accuracy': 0.5420879125595093}], 'Inference-Time': '0.06971430778503418'}\n",
      "{'id': '98dd86fa-e273-450d-aa27-b056194c4cb3', 'objects': [{'label': 'tennis racket', 'accuracy': 0.9044536352157593}, {'label': 'person', 'accuracy': 0.7885273098945618}], 'Inference-Time': '0.060194969177246094'}\n",
      "{'id': '7025ef65-3be6-44a8-b95a-b4fe487b9725', 'objects': [{'label': 'car', 'accuracy': 0.6390714049339294}], 'Inference-Time': '0.06499695777893066'}\n",
      "{'id': '302ba0f9-d648-4ef9-9421-7e0d6b0fe607', 'objects': [], 'Inference-Time': '0.1469869613647461'}\n",
      "{'id': 'c4ab0ccf-d297-4ebe-80f8-2e3992311d6e', 'objects': [], 'Inference-Time': '0.06300020217895508'}\n",
      "{'id': '6c22fe15-1095-483d-820c-81dfea8e3443', 'objects': [{'label': 'person', 'accuracy': 0.5078178644180298}], 'Inference-Time': '0.056226253509521484'}\n",
      "{'id': '5c782eb7-81a4-4e9d-a102-7b4187309d90', 'objects': [], 'Inference-Time': '0.06812214851379395'}\n",
      "{'id': 'f203d0bd-7c5d-43ff-a23e-0341ff09b3be', 'objects': [], 'Inference-Time': '0.0633080005645752'}\n",
      "{'id': '5b696c1e-773a-48ca-8f82-09f57f3499a0', 'objects': [], 'Inference-Time': '0.06505393981933594'}\n",
      "{'id': 'd8decde2-c38f-4c81-9d7a-14bfa9f16a12', 'objects': [{'label': 'motorbike', 'accuracy': 0.8320334553718567}], 'Inference-Time': '0.07045984268188477'}\n",
      "{'id': '1fa9b241-4ec8-4658-acc5-eec77f7926a8', 'objects': [{'label': 'person', 'accuracy': 0.6836830377578735}], 'Inference-Time': '0.057344675064086914'}\n",
      "{'id': '8eff0f4d-8d52-48af-915d-29e1fdfe428a', 'objects': [{'label': 'cell phone', 'accuracy': 0.6951825618743896}], 'Inference-Time': '0.057720184326171875'}\n",
      "{'id': '0fe9c89c-1afc-4afe-ba11-532ae368b922', 'objects': [], 'Inference-Time': '0.05779576301574707'}\n",
      "{'id': 'b082296f-d4c7-4b6f-ac34-0ca0d6910413', 'objects': [{'label': 'cow', 'accuracy': 0.6395580768585205}], 'Inference-Time': '0.06447172164916992'}\n"
     ]
    }
   ],
   "source": [
    "!python client.py $INPUT_FOLDER $ENDPOINT"
   ]
  },
  {
   "cell_type": "markdown",
   "metadata": {},
   "source": [
    "## Average Inference Time"
   ]
  },
  {
   "cell_type": "code",
   "execution_count": 12,
   "metadata": {},
   "outputs": [
    {
     "name": "stdout",
     "output_type": "stream",
     "text": [
      "0.06s\n"
     ]
    }
   ],
   "source": [
    "import pandas as pd\n",
    "\n",
    "df = pd.read_json(\"../evaluation/results_local.json\")\n",
    "avg_inference_time = df[\"Inference-Time\"].mean()\n",
    "print(f\"{avg_inference_time:.2f}s\")"
   ]
  }
 ],
 "metadata": {
  "kernelspec": {
   "display_name": "yolo-cv",
   "language": "python",
   "name": "python3"
  },
  "language_info": {
   "codemirror_mode": {
    "name": "ipython",
    "version": 3
   },
   "file_extension": ".py",
   "mimetype": "text/x-python",
   "name": "python",
   "nbconvert_exporter": "python",
   "pygments_lexer": "ipython3",
   "version": "3.12.2"
  }
 },
 "nbformat": 4,
 "nbformat_minor": 2
}
