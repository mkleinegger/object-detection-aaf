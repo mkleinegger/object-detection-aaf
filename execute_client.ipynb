{
 "cells": [
  {
   "cell_type": "markdown",
   "metadata": {},
   "source": [
    "Execute client"
   ]
  },
  {
   "cell_type": "code",
   "execution_count": 5,
   "metadata": {},
   "outputs": [],
   "source": [
    "INPUT_FOLDER = \"input_data/\"\n",
    "ENDPOINT = \"http://127.0.0.1:5000/api/object_detection\""
   ]
  },
  {
   "cell_type": "code",
   "execution_count": 6,
   "metadata": {},
   "outputs": [
    {
     "name": "stdout",
     "output_type": "stream",
     "text": [
      "{'id': '3ae0c4a5-fd86-4a21-87ed-9eea747b27a9', 'objects': []}\n",
      "{'id': 'ce6c49d5-769b-4792-82dc-d131ce61fb97', 'objects': [{'label': 'person', 'accuracy': 0.8198175430297852}, {'label': 'sports ball', 'accuracy': 0.6291966438293457}]}\n",
      "{'id': 'eaf7658d-9bb3-4c6d-a755-3f7fd31d788b', 'objects': [{'label': 'cow', 'accuracy': 0.6395580768585205}]}\n",
      "{'id': '81874280-339a-438d-ae0c-fe6fe2e61038', 'objects': [{'label': 'person', 'accuracy': 0.8698837161064148}, {'label': 'tennis racket', 'accuracy': 0.6463392376899719}]}\n",
      "{'id': '55a0d6ed-6e47-4651-a4d5-e58376bb7b69', 'objects': [{'label': 'person', 'accuracy': 0.9276288747787476}]}\n",
      "{'id': '389dbbb1-6474-44e4-bbbe-bb6beb439586', 'objects': [{'label': 'wine glass', 'accuracy': 0.5744618773460388}, {'label': 'person', 'accuracy': 0.6317387819290161}]}\n",
      "{'id': '997fd1bc-9bb2-4855-bc3f-90bbb605a17f', 'objects': [{'label': 'zebra', 'accuracy': 0.9284520149230957}]}\n",
      "{'id': 'eaea21c4-8d0b-4498-99ea-9eced88ab4b4', 'objects': [{'label': 'cow', 'accuracy': 0.8048258423805237}]}\n",
      "{'id': 'd86123cc-d03d-4665-b7b3-0bad7247a246', 'objects': [{'label': 'frisbee', 'accuracy': 0.5882787704467773}]}\n",
      "{'id': '9b251ba2-11e1-4c90-bff0-4f5934a93890', 'objects': [{'label': 'train', 'accuracy': 0.9197226762771606}]}\n",
      "{'id': '311f9256-52d6-4e6c-a5af-94b35fbbbcb7', 'objects': [{'label': 'elephant', 'accuracy': 0.9559025764465332}]}\n",
      "{'id': '29c03d53-d7b6-4f0e-a1c3-961e81e06e3a', 'objects': []}\n",
      "{'id': '8aaea418-15a2-4639-b22e-89495a6c4fff', 'objects': [{'label': 'carrot', 'accuracy': 0.5723804831504822}]}\n",
      "{'id': 'cbc42af4-18c7-42ba-bf31-e9700f6879c7', 'objects': [{'label': 'tie', 'accuracy': 0.5115311145782471}]}\n",
      "{'id': '058f586a-ae62-46bd-b52b-4bff839cca20', 'objects': [{'label': 'motorbike', 'accuracy': 0.8320334553718567}]}\n",
      "{'id': 'ceb3738f-d37b-4efb-b7c8-d346b7a2544e', 'objects': []}\n",
      "{'id': '4b124913-0094-43db-9a05-9b54fe77eed6', 'objects': [{'label': 'wine glass', 'accuracy': 0.8457478284835815}, {'label': 'pizza', 'accuracy': 0.62665855884552}, {'label': 'bottle', 'accuracy': 0.526292085647583}]}\n",
      "{'id': 'eac294d4-80a6-4c62-9c2d-b29abdfac44a', 'objects': []}\n",
      "{'id': '8708e15d-a288-44d9-a466-5a3a85b21617', 'objects': []}\n",
      "{'id': '494ea6c3-4e07-4bdd-9cf3-9c2be476c91e', 'objects': [{'label': 'person', 'accuracy': 0.5677587389945984}, {'label': 'tie', 'accuracy': 0.5160541534423828}]}\n",
      "{'id': 'fca63de3-6cca-4d76-aadd-c4af5be47e1f', 'objects': []}\n",
      "{'id': 'dde756ea-2a23-485b-8d22-ac729e463cb2', 'objects': [{'label': 'person', 'accuracy': 0.8384290337562561}]}\n",
      "{'id': 'f13e6bfd-96ff-49b7-ac17-ef112daa441c', 'objects': []}\n",
      "{'id': '73bbc5b7-5d76-415a-aef4-637aafb6b2ec', 'objects': []}\n",
      "{'id': '1cddabb4-ee5a-45bf-b2b4-feb27dca96d1', 'objects': []}\n",
      "{'id': '60b1815c-8384-4e35-998c-096401fa38c2', 'objects': [{'label': 'clock', 'accuracy': 0.877075731754303}]}\n",
      "{'id': 'db09d21f-7f9b-4d33-bec0-f9923d6989ff', 'objects': []}\n",
      "{'id': 'd718bec3-bb24-452e-b895-aa071a7abb42', 'objects': [{'label': 'person', 'accuracy': 0.5097712874412537}]}\n",
      "{'id': '81344bc3-3211-4069-900e-603e27ecfa04', 'objects': []}\n",
      "{'id': '4f6aecfb-c2d0-41c5-99ae-1e5bf2019c9e', 'objects': [{'label': 'person', 'accuracy': 0.6836830377578735}]}\n",
      "{'id': '09f123da-ada2-4d5f-809b-264d86cad774', 'objects': [{'label': 'boat', 'accuracy': 0.6701053380966187}]}\n",
      "{'id': '67a3f333-6b43-4830-a2a2-d767ccb6c120', 'objects': []}\n",
      "{'id': '5f053621-b93f-4bab-b4f1-e2e09116811a', 'objects': [{'label': 'person', 'accuracy': 0.6708400249481201}, {'label': 'cup', 'accuracy': 0.7422289848327637}, {'label': 'bowl', 'accuracy': 0.6237394213676453}]}\n",
      "{'id': '7865119e-7c3b-4ba4-92e8-21ed6619a6ec', 'objects': [{'label': 'person', 'accuracy': 0.6294313073158264}]}\n",
      "{'id': 'be7f91ce-e4bb-4ce0-828a-56c07c955ab3', 'objects': [{'label': 'person', 'accuracy': 0.68399977684021}]}\n",
      "{'id': '452e012f-67dd-4132-9939-54decb8969e6', 'objects': []}\n",
      "{'id': '70767375-c491-4cd8-bfbc-bb74e2850a86', 'objects': []}\n",
      "{'id': '6626d97d-3a92-415c-a631-4ec42ee93bec', 'objects': [{'label': 'laptop', 'accuracy': 0.9457632303237915}, {'label': 'tvmonitor', 'accuracy': 0.7987861633300781}, {'label': 'keyboard', 'accuracy': 0.7382356524467468}, {'label': 'mouse', 'accuracy': 0.7134348750114441}]}\n",
      "{'id': 'ae42279b-a490-4ce7-b415-5a59783ef554', 'objects': [{'label': 'zebra', 'accuracy': 0.857231855392456}]}\n",
      "{'id': 'c8ef79f0-073f-48c3-bd5b-0155bae1a0ac', 'objects': []}\n",
      "{'id': '6bbcd589-10bd-40e0-916c-eea81a750440', 'objects': [{'label': 'fire hydrant', 'accuracy': 0.9159075021743774}]}\n",
      "{'id': '874419e8-9f48-4d56-b5c1-de59ef6795b5', 'objects': [{'label': 'tennis racket', 'accuracy': 0.9044536352157593}, {'label': 'person', 'accuracy': 0.7885273098945618}]}\n",
      "{'id': 'eec37e54-1206-4108-963c-2cdd35027aa5', 'objects': [{'label': 'cell phone', 'accuracy': 0.6951825618743896}]}\n",
      "{'id': '1987b7e4-4661-4557-b9fd-0d58b2064bbf', 'objects': [{'label': 'parking meter', 'accuracy': 0.6066499352455139}]}\n",
      "{'id': '5ce1d862-4869-466e-80e8-38081ff4914c', 'objects': [{'label': 'person', 'accuracy': 0.5078178644180298}]}\n",
      "{'id': '82e42898-2843-43ad-a2f7-f789715f8aca', 'objects': [{'label': 'aeroplane', 'accuracy': 0.6291376948356628}]}\n",
      "{'id': '5d5ccf4d-3f28-444a-ad9d-c6f8f437fdd1', 'objects': [{'label': 'person', 'accuracy': 0.7103785872459412}]}\n",
      "{'id': '43826bce-e56e-427b-91be-0d7fdf07f518', 'objects': []}\n",
      "{'id': 'f6432064-4ce5-4ccd-ac0a-35e4abdfbb68', 'objects': [{'label': 'tvmonitor', 'accuracy': 0.8826243877410889}, {'label': 'person', 'accuracy': 0.6008952856063843}]}\n",
      "{'id': '1c7cd19b-6868-4673-b259-cc7787f18c30', 'objects': []}\n",
      "{'id': '5c374346-1bcd-4b4e-840c-b4368a454a5c', 'objects': [{'label': 'cat', 'accuracy': 0.6615480184555054}, {'label': 'person', 'accuracy': 0.5334598422050476}]}\n",
      "{'id': '7b6e03a4-589b-4cdf-80b9-b8b183031d5b', 'objects': [{'label': 'person', 'accuracy': 0.6710710525512695}]}\n",
      "{'id': 'ef607923-49f7-4bbf-9127-7e422c661bc7', 'objects': [{'label': 'person', 'accuracy': 0.7569429278373718}, {'label': 'pottedplant', 'accuracy': 0.5045344829559326}]}\n",
      "{'id': '8c07caad-0ecc-44cc-be71-d689ab655692', 'objects': [{'label': 'bus', 'accuracy': 0.8302894830703735}]}\n",
      "{'id': '11dfa06d-5cbe-4f9c-8cbc-9fa63d816681', 'objects': [{'label': 'chair', 'accuracy': 0.5170283913612366}]}\n",
      "{'id': '86db8efc-717d-48cf-a665-107db7af51e4', 'objects': [{'label': 'person', 'accuracy': 0.8530287742614746}, {'label': 'sports ball', 'accuracy': 0.7321022748947144}]}\n",
      "{'id': 'e6e2f4d3-d3f3-4d28-bbdc-043adf83ecc2', 'objects': []}\n",
      "{'id': 'c0694a07-71b3-4acd-a8cf-88bed6472ced', 'objects': []}\n",
      "{'id': '88fde439-09d5-4973-bd99-0a7c869007ed', 'objects': [{'label': 'stop sign', 'accuracy': 0.9213705658912659}, {'label': 'car', 'accuracy': 0.6973753571510315}]}\n",
      "{'id': '2de4cce4-e0c8-433a-9c67-9a4287724eb1', 'objects': []}\n",
      "{'id': '6807bca8-cc9c-418f-a72c-44532870a00a', 'objects': [{'label': 'oven', 'accuracy': 0.6911782026290894}, {'label': 'sink', 'accuracy': 0.7101945877075195}, {'label': 'microwave', 'accuracy': 0.6374997496604919}, {'label': 'refrigerator', 'accuracy': 0.5849629640579224}]}\n",
      "{'id': '12b3728b-de1d-4181-9467-8a1ea53e070b', 'objects': []}\n",
      "{'id': '1196e6d5-7671-43de-8f3c-33fdf5e09c03', 'objects': []}\n",
      "{'id': '20bdf708-3bf1-4dec-9e03-8d0c0353aef4', 'objects': []}\n",
      "{'id': '33fb3396-366f-4615-8884-1f770ab09b8d', 'objects': [{'label': 'cat', 'accuracy': 0.5109599828720093}]}\n",
      "{'id': '886898bc-16ad-4d06-8852-e5400e3eb0cd', 'objects': [{'label': 'person', 'accuracy': 0.7264796495437622}]}\n",
      "{'id': '1891d06e-beb8-49b3-8b9f-d658342bfa52', 'objects': [{'label': 'bird', 'accuracy': 0.5754974484443665}]}\n",
      "{'id': 'c2da3fd5-e27a-4659-8aac-1f4ecb958fee', 'objects': [{'label': 'fork', 'accuracy': 0.5636112689971924}]}\n",
      "{'id': '5424df90-5c2b-4804-a4fd-cbe7795eb9dd', 'objects': [{'label': 'giraffe', 'accuracy': 0.7347346544265747}]}\n",
      "{'id': 'ef4d0e46-77ef-41e3-8d79-f2d33e3fe135', 'objects': [{'label': 'cat', 'accuracy': 0.9319427609443665}]}\n",
      "{'id': 'cdf4b140-7b78-4dd1-96f9-d0315bb46cf5', 'objects': []}\n",
      "{'id': '9cea1244-c81a-41fa-8f6b-2267a3c12a8e', 'objects': [{'label': 'motorbike', 'accuracy': 0.5024407505989075}]}\n",
      "{'id': '0d23b12e-bf24-46cb-9361-20659543aaad', 'objects': []}\n",
      "{'id': '73fd4b17-afd1-4000-b87a-97d0bf94718e', 'objects': [{'label': 'person', 'accuracy': 0.5420879125595093}]}\n",
      "{'id': '23d6b45e-2a86-4ea8-9ee2-17ec540f8521', 'objects': [{'label': 'sports ball', 'accuracy': 0.968140184879303}, {'label': 'tennis racket', 'accuracy': 0.6060899496078491}]}\n",
      "{'id': '957c4c82-7e60-4ba7-8bed-830662daf544', 'objects': [{'label': 'hot dog', 'accuracy': 0.9235485792160034}]}\n",
      "{'id': '6ad65c51-03e5-4e05-a483-021f2dcde8d7', 'objects': [{'label': 'traffic light', 'accuracy': 0.6498695015907288}]}\n",
      "{'id': '63cf7006-0bfc-41ca-b3d4-ec534927fac5', 'objects': [{'label': 'car', 'accuracy': 0.5392357110977173}]}\n",
      "{'id': '6c725a57-e772-4285-93f0-943dc02f0730', 'objects': [{'label': 'person', 'accuracy': 0.6373527646064758}]}\n",
      "{'id': '84db0d6e-2af2-442e-9c1b-72d1987d2f85', 'objects': []}\n",
      "{'id': 'a88b393c-3aae-4840-84fd-749aa00490ac', 'objects': [{'label': 'person', 'accuracy': 0.8680655360221863}]}\n",
      "{'id': '1884e4f4-2032-421e-b6aa-aacd874d07d1', 'objects': [{'label': 'chair', 'accuracy': 0.5437053442001343}]}\n",
      "{'id': '978717e2-f956-4ac9-a7cc-52873054c36f', 'objects': [{'label': 'chair', 'accuracy': 0.7197519540786743}]}\n",
      "{'id': 'd0ac7b43-6fdc-42d3-8845-73dccdeb7658', 'objects': []}\n",
      "{'id': '1b7fd751-c590-4136-8bc6-e3bf6ee0c807', 'objects': []}\n",
      "{'id': '7c1847d1-77e1-4d90-86ca-3844074c11e9', 'objects': [{'label': 'toilet', 'accuracy': 0.9725949764251709}]}\n",
      "{'id': 'f8ff6de9-75f0-43d8-b87a-90ae74bdf319', 'objects': []}\n",
      "{'id': '742178ed-d6f2-472d-b4c6-8fe899b7a7e4', 'objects': []}\n",
      "{'id': '4f805754-13f3-4ed3-897a-b9f65eeeb282', 'objects': [{'label': 'giraffe', 'accuracy': 0.6294236779212952}]}\n",
      "{'id': 'e76a7218-5c0b-4d13-a666-209d42e5c26d', 'objects': []}\n",
      "{'id': '8dd18e32-42e9-4cc7-a586-72a90dc9ae20', 'objects': [{'label': 'person', 'accuracy': 0.8369681239128113}]}\n",
      "{'id': '063a5db8-b248-4d7b-b2ab-fcfe388eb5aa', 'objects': []}\n",
      "{'id': '59845cce-454e-4adc-98a6-e7eb2af7b09c', 'objects': [{'label': 'person', 'accuracy': 0.9592577815055847}, {'label': 'skateboard', 'accuracy': 0.6205522418022156}]}\n",
      "{'id': '0fa6c0b0-5858-4c08-a6fe-2b313684843a', 'objects': [{'label': 'backpack', 'accuracy': 0.6387631893157959}, {'label': 'person', 'accuracy': 0.5220975875854492}]}\n",
      "{'id': '556ab5a0-6656-4266-a930-6c83817ca230', 'objects': [{'label': 'car', 'accuracy': 0.6390714049339294}]}\n",
      "{'id': '489cce7e-a895-4f7a-b367-63b5a57156ba', 'objects': [{'label': 'clock', 'accuracy': 0.8320177793502808}]}\n",
      "{'id': '259a3f07-1f98-44aa-9217-13bad56c43de', 'objects': [{'label': 'kite', 'accuracy': 0.6215581893920898}]}\n",
      "{'id': '87d46e57-6d80-4ac0-b7a7-efc995fc9f5a', 'objects': [{'label': 'person', 'accuracy': 0.8373982310295105}, {'label': 'tennis racket', 'accuracy': 0.5805988907814026}]}\n",
      "{'id': '465479f0-0d8a-498f-85f4-c2e0058cb2fc', 'objects': [{'label': 'zebra', 'accuracy': 0.8473095297813416}]}\n",
      "{'id': 'd2a455fd-d8d9-4414-9069-e47fcda11d55', 'objects': []}\n"
     ]
    }
   ],
   "source": [
    "!python client.py $INPUT_FOLDER $ENDPOINT"
   ]
  }
 ],
 "metadata": {
  "kernelspec": {
   "display_name": "yolo-cv",
   "language": "python",
   "name": "python3"
  },
  "language_info": {
   "codemirror_mode": {
    "name": "ipython",
    "version": 3
   },
   "file_extension": ".py",
   "mimetype": "text/x-python",
   "name": "python",
   "nbconvert_exporter": "python",
   "pygments_lexer": "ipython3",
   "version": "3.12.3"
  }
 },
 "nbformat": 4,
 "nbformat_minor": 2
}
